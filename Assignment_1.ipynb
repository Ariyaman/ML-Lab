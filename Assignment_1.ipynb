{
  "nbformat": 4,
  "nbformat_minor": 0,
  "metadata": {
    "colab": {
      "name": "Assignment-1.ipynb",
      "provenance": [],
      "collapsed_sections": []
    },
    "kernelspec": {
      "name": "python3",
      "display_name": "Python 3"
    },
    "language_info": {
      "name": "python"
    }
  },
  "cells": [
    {
      "cell_type": "code",
      "source": [
        "import pandas as pd\n",
        "import numpy as np\n",
        "import matplotlib.pyplot as plt\n",
        "from sklearn import datasets\n",
        "from sklearn.model_selection import train_test_split\n",
        "from sklearn.naive_bayes import GaussianNB, MultinomialNB, BernoulliNB\n",
        "from sklearn.linear_model import LinearRegression\n",
        "from sklearn.tree import DecisionTreeClassifier, plot_tree\n",
        "from sklearn.metrics import classification_report, confusion_matrix, explained_variance_score, mean_absolute_error"
      ],
      "metadata": {
        "id": "2Umg8UtA7qFX"
      },
      "execution_count": 64,
      "outputs": []
    },
    {
      "cell_type": "code",
      "source": [
        "# Iris Dataset Preparation\n",
        "iris_dataset = datasets.load_iris()\n",
        "\n",
        "print(\"Iris Dataset Feature and target names - \\n\")\n",
        "print(iris_dataset.feature_names)\n",
        "print(iris_dataset.target_names)\n",
        "\n",
        "X = iris_dataset.data\n",
        "Y = iris_dataset.target\n",
        "\n",
        "X_train,X_test,Y_train,Y_test = train_test_split(X,Y,test_size=0.2)\n",
        "\n",
        "#Classification using Naive Bayes Classifier\n",
        "gaussian_nb_classifier = GaussianNB().fit(X_train, Y_train)\n",
        "Y_pred = gaussian_nb_classifier.predict(X_test)\n",
        "\n",
        "print(\"Iris Dataset GaussianNB Classifier Confusion matrix - \\n\")\n",
        "print(confusion_matrix(Y_test,Y_pred))\n",
        "print(\"\\n\")\n",
        "print(\"Iris Dataset GaussianNB Classifier Classification Report - \\n\")\n",
        "print(classification_report(Y_test,Y_pred))\n",
        "\n",
        "bernoulli_nb_classifier = BernoulliNB(alpha=1, binarize=0.9).fit(X_train, Y_train)\n",
        "Y_pred = bernoulli_nb_classifier.predict(X_test)\n",
        "\n",
        "print(\"Iris Dataset BernoulliNB Classifier Confusion matrix - \\n\")\n",
        "print(confusion_matrix(Y_test,Y_pred))\n",
        "print(\"\\n\")\n",
        "print(\"Iris Dataset BernoulliNB Classifier Classification Report - \\n\")\n",
        "print(classification_report(Y_test,Y_pred))\n",
        "\n",
        "multinomial_nb_classifier = MultinomialNB().fit(X_train, Y_train)\n",
        "Y_pred = multinomial_nb_classifier.predict(X_test)\n",
        "\n",
        "print(\"Iris Dataset MultinomialNB Classifier Confusion matrix - \\n\")\n",
        "print(confusion_matrix(Y_test,Y_pred))\n",
        "print(\"\\n\")\n",
        "print(\"Iris Dataset MultinomialNB Classifier Classification Report - \\n\")\n",
        "print(classification_report(Y_test,Y_pred))\n",
        "\n",
        "# Classification using Decision Tree Classifier\n",
        "gini_decision_tree_classifier = DecisionTreeClassifier(criterion=\"gini\",max_depth=15)\n",
        "gini_decision_tree_classifier.fit(X_train,Y_train)\n",
        "Y_pred = gini_decision_tree_classifier.predict(X_test)\n",
        "\n",
        "print(\"Iris Dataset Decision Tree  Classifier(gini) Confusion matrix - \\n\")\n",
        "print(confusion_matrix(Y_test,Y_pred))\n",
        "print(\"\\n\")\n",
        "print(\"Iris Dataset Decision Tree Classifier(gini) Classification Report - \\n\")\n",
        "print(classification_report(Y_test,Y_pred))\n",
        "\n",
        "fig=plt.figure(figsize=(20,20))\n",
        "plot_tree(gini_decision_tree_classifier)\n",
        "\n",
        "entropy_decision_tree_classifier = DecisionTreeClassifier(criterion=\"entropy\",max_depth=15)\n",
        "entropy_decision_tree_classifier.fit(X_train,Y_train)\n",
        "Y_pred = entropy_decision_tree_classifier.predict(X_test)\n",
        "\n",
        "print(\"Iris Dataset Decision Tree Classifier(entropy) Confusion matrix - \\n\")\n",
        "print(confusion_matrix(Y_test,Y_pred))\n",
        "print(\"\\n\")\n",
        "print(\"Iris Dataset Decision Tree Classifier(entropy) Classification Report - \\n\")\n",
        "print(classification_report(Y_test,Y_pred))\n",
        "\n",
        "fig=plt.figure(figsize=(20,20))\n",
        "plot_tree(entropy_decision_tree_classifier)"
      ],
      "metadata": {
        "id": "9p3uRDFIKeFs"
      },
      "execution_count": null,
      "outputs": []
    },
    {
      "cell_type": "code",
      "source": [
        "# Breast Cancer Dataset Preparation\n",
        "breast_cancer_dataset = datasets.load_breast_cancer()\n",
        "\n",
        "print(\"Breast Cancer Dataset Feature and target names - \\n\")\n",
        "print(breast_cancer_dataset.feature_names)\n",
        "print(breast_cancer_dataset.target_names)\n",
        "\n",
        "X = breast_cancer_dataset.data\n",
        "Y = breast_cancer_dataset.target\n",
        "\n",
        "X_train,X_test,Y_train,Y_test = train_test_split(X,Y,test_size=0.2)\n",
        "\n",
        "#Classification using Naive Bayes Classifier\n",
        "gaussian_nb_classifier = GaussianNB().fit(X_train, Y_train)\n",
        "Y_pred = gaussian_nb_classifier.predict(X_test)\n",
        "\n",
        "print(\"Breast Cancer Dataset GaussianNB Classifier Confusion matrix - \\n\")\n",
        "print(confusion_matrix(Y_test,Y_pred))\n",
        "print(\"\\n\")\n",
        "print(\"Breast Cancer Dataset GaussianNB Classifier Classification Report - \\n\")\n",
        "print(classification_report(Y_test,Y_pred))\n",
        "\n",
        "bernoulli_nb_classifier = BernoulliNB().fit(X_train, Y_train)\n",
        "Y_pred = bernoulli_nb_classifier.predict(X_test)\n",
        "\n",
        "print(\"Breast Cancer Dataset BernoulliNB Classifier Confusion matrix - \\n\")\n",
        "print(confusion_matrix(Y_test,Y_pred))\n",
        "print(\"\\n\")\n",
        "print(\"Breast Cancer Dataset BernoulliNB Classifier Classification Report - \\n\")\n",
        "print(classification_report(Y_test,Y_pred))\n",
        "\n",
        "multinomial_nb_classifier = MultinomialNB().fit(X_train, Y_train)\n",
        "Y_pred = multinomial_nb_classifier.predict(X_test)\n",
        "\n",
        "print(\"Breast Cancer Dataset MultinomialNB Classifier Confusion matrix - \\n\")\n",
        "print(confusion_matrix(Y_test,Y_pred))\n",
        "print(\"\\n\")\n",
        "print(\"Breast Cancer Dataset MultinomialNB Classifier Classification Report - \\n\")\n",
        "print(classification_report(Y_test,Y_pred))\n",
        "\n",
        "# Classification using Decision Tree Classifier\n",
        "gini_decision_tree_classifier = DecisionTreeClassifier(criterion=\"gini\",max_depth=15)\n",
        "gini_decision_tree_classifier.fit(X_train,Y_train)\n",
        "Y_pred = gini_decision_tree_classifier.predict(X_test)\n",
        "\n",
        "print(\"Breast Cancer Dataset Decision Tree  Classifier(gini) Confusion matrix - \\n\")\n",
        "print(confusion_matrix(Y_test,Y_pred))\n",
        "print(\"\\n\")\n",
        "print(\"Breast Cancer Dataset Decision Tree Classifier(gini) Classification Report - \\n\")\n",
        "print(classification_report(Y_test,Y_pred))\n",
        "\n",
        "fig=plt.figure(figsize=(20,20))\n",
        "plot_tree(gini_decision_tree_classifier)\n",
        "\n",
        "entropy_decision_tree_classifier = DecisionTreeClassifier(criterion=\"entropy\",max_depth=15)\n",
        "entropy_decision_tree_classifier.fit(X_train,Y_train)\n",
        "Y_pred = entropy_decision_tree_classifier.predict(X_test)\n",
        "\n",
        "print(\"Breast Dataset Decision Tree Classifier(entropy) Confusion matrix - \\n\")\n",
        "print(confusion_matrix(Y_test,Y_pred))\n",
        "print(\"\\n\")\n",
        "print(\"Breast Dataset Decision Tree Classifier(entropy) Classification Report - \\n\")\n",
        "print(classification_report(Y_test,Y_pred))\n",
        "\n",
        "fig=plt.figure(figsize=(20,20))\n",
        "plot_tree(entropy_decision_tree_classifier)"
      ],
      "metadata": {
        "id": "HQc5l5XT8_FA"
      },
      "execution_count": null,
      "outputs": []
    },
    {
      "cell_type": "code",
      "source": [
        "# Diabetes Dataset Preparation\n",
        "diabetes_dataset = datasets.load_diabetes()\n",
        "\n",
        "print(\"Diabetes Dataset Feature names - \\n\")\n",
        "print(diabetes_dataset.feature_names)\n",
        "\n",
        "X = diabetes_dataset.data\n",
        "Y = diabetes_dataset.target\n",
        "\n",
        "X_train,X_test,Y_train,Y_test = train_test_split(X,Y,test_size=0.2)\n",
        "\n",
        "# Regresssion using Linear Regression\n",
        "l_regression = LinearRegression()\n",
        "l_regression.fit(X_train,Y_train)\n",
        "Y_pred = l_regression.predict(X_test)\n",
        "\n",
        "print(\"1) The model explains,\", np.round(explained_variance_score(Y_test,Y_pred)*100,2),\"% variance of the target w.r.t features is\")\n",
        "print(\"2) The Mean Absolute Error of model is:\", np.round(mean_absolute_error(Y_test,Y_pred ),2))\n"
      ],
      "metadata": {
        "colab": {
          "base_uri": "https://localhost:8080/"
        },
        "id": "ZAE5AjajJdpL",
        "outputId": "aa1f5e68-8d63-4617-ce4a-279421df0b6d"
      },
      "execution_count": 65,
      "outputs": [
        {
          "output_type": "stream",
          "name": "stdout",
          "text": [
            "Diabetes Dataset Feature names - \n",
            "\n",
            "['age', 'sex', 'bmi', 'bp', 's1', 's2', 's3', 's4', 's5', 's6']\n",
            "Diabetes Dataset Linear Regression Classification Report - \n",
            "\n",
            "1) The model explains, 57.66 % variance of the target w.r.t features is\n",
            "2) The Mean Absolute Error of model is: 41.22\n"
          ]
        }
      ]
    },
    {
      "cell_type": "code",
      "source": [
        ""
      ],
      "metadata": {
        "id": "EKn1boFARmlZ"
      },
      "execution_count": null,
      "outputs": []
    }
  ]
}